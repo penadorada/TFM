{
 "cells": [
  {
   "cell_type": "markdown",
   "metadata": {
    "deletable": true,
    "editable": true
   },
   "source": [
    "## DASHBOARD\n",
    "\n",
    "- VISUAL TOOL TO COMPARE RENTS IN AIRBNB AND IDEALISTA. \n",
    "\n",
    "    - Choose neighbourhood and number of rooms (measure of size) and the app will display the estimated gross income and the average availability for that area.\n",
    "    \n",
    "- VISUALIZATION OF MAJOR DIFFERENCES BETWEEN RESIDENTIAL AND VACATIONAL MARKETS IN MADRID"
   ]
  },
  {
   "cell_type": "code",
   "execution_count": 1,
   "metadata": {
    "collapsed": true,
    "deletable": true,
    "editable": true
   },
   "outputs": [],
   "source": [
    "import pandas as pd\n",
    "import numpy as np\n",
    "import dash\n",
    "import dash_html_components as html\n",
    "import dash_core_components as dcc\n",
    "import plotly.graph_objs as go\n",
    "from dash.dependencies import Input, Output\n",
    "import plotly.plotly as py\n",
    "from plotly.graph_objs import *\n"
   ]
  },
  {
   "cell_type": "code",
   "execution_count": 3,
   "metadata": {
    "collapsed": false,
    "deletable": true,
    "editable": true
   },
   "outputs": [],
   "source": [
    "center=pd.read_csv('center.csv')\n",
    "\n",
    "# Remove accents. Plotly Dash app does not work with accents\n",
    "center['neighborhood'] = center.neighborhood.str.replace('ü','u')\n",
    "center['neighborhood'] = center.neighborhood.str.replace('á','a')\n",
    "center['neighborhood'] = center.neighborhood.str.replace('é','e')\n",
    "center['neighborhood'] = center.neighborhood.str.replace('í','i')\n",
    "center['neighborhood'] = center.neighborhood.str.replace('ó','o')\n",
    "center['neighborhood'] = center.neighborhood.str.replace('ú','u')"
   ]
  },
  {
   "cell_type": "code",
   "execution_count": 4,
   "metadata": {
    "collapsed": true,
    "deletable": true,
    "editable": true
   },
   "outputs": [],
   "source": [
    "prem= center.groupby('neighborhood',as_index=False).Holyday_rental_premium_pct.mean().sort_values(by='Holyday_rental_premium_pct', ascending=True)\n",
    "neig=center.groupby('neighborhood',as_index=False).availability_30.mean()\n",
    "offer = center.groupby('neighborhood')[['Number_flats_IDEALISTA','Number_flats_AIRBNB']].sum().reset_index()\n",
    "offer = offer.reset_index()"
   ]
  },
  {
   "cell_type": "code",
   "execution_count": 5,
   "metadata": {
    "collapsed": false,
    "deletable": true,
    "editable": true
   },
   "outputs": [
    {
     "name": "stdout",
     "output_type": "stream",
     "text": [
      "/home/dsc/Master-IV/PROYECTO_FM/SHP_ETRS89\n"
     ]
    }
   ],
   "source": [
    "%cd ~/Master-IV/PROYECTO_FM/SHP_ETRS89/"
   ]
  },
  {
   "cell_type": "markdown",
   "metadata": {},
   "source": [
    "### DASHBOARD APP"
   ]
  },
  {
   "cell_type": "code",
   "execution_count": 58,
   "metadata": {
    "collapsed": false,
    "deletable": true,
    "editable": true
   },
   "outputs": [
    {
     "name": "stderr",
     "output_type": "stream",
     "text": [
      " * Running on http://127.0.0.1:8050/ (Press CTRL+C to quit)\n",
      "127.0.0.1 - - [10/Nov/2017 14:28:51] \"GET / HTTP/1.1\" 200 -\n",
      "127.0.0.1 - - [10/Nov/2017 14:28:52] \"GET /_dash-layout HTTP/1.1\" 200 -\n",
      "127.0.0.1 - - [10/Nov/2017 14:28:52] \"GET /_dash-dependencies HTTP/1.1\" 200 -\n",
      "127.0.0.1 - - [10/Nov/2017 14:28:53] \"POST /_dash-update-component HTTP/1.1\" 200 -\n",
      "127.0.0.1 - - [10/Nov/2017 14:28:58] \"POST /_dash-update-component HTTP/1.1\" 200 -\n",
      "127.0.0.1 - - [10/Nov/2017 14:28:58] \"POST /_dash-update-component HTTP/1.1\" 200 -\n",
      "127.0.0.1 - - [10/Nov/2017 14:29:00] \"POST /_dash-update-component HTTP/1.1\" 200 -\n",
      "127.0.0.1 - - [10/Nov/2017 14:29:06] \"POST /_dash-update-component HTTP/1.1\" 200 -\n",
      "127.0.0.1 - - [10/Nov/2017 14:29:53] \"POST /_dash-update-component HTTP/1.1\" 200 -\n"
     ]
    }
   ],
   "source": [
    "rom = center['rooms']\n",
    "neighborhood = center['neighborhood'].unique()\n",
    "rooms=center.rooms.sort_values(ascending=True)\n",
    "rooms=rooms.unique()\n",
    "\n",
    "\n",
    "app=dash.Dash()\n",
    "app.layout = html.Div([\n",
    "      html.Div([\n",
    "          html.Div([\n",
    "            html.H1(\"MADRID RENTAL MARKET 2017\",className='seven columns',style={'text-align': 'center',\n",
    "                                                                              'fontSize':25,'color':'#3e4444',\n",
    "                                                                              'font-family':'Arial, sans-serif',\n",
    "                                                                               'boxshadow':'#C0C0C0'})],\n",
    "    className='banner'),\n",
    "    html.Hr(style={'margin': '0', 'margin-bottom': 5}),\n",
    "    \n",
    "    html.Div([\n",
    "          html.Div([\n",
    "               html.H2('Select Neighbourhood',style={'fontSize':15,'color':'#7f7f7f'}),\n",
    "                dcc.Dropdown(\n",
    "                    id='zonas',\n",
    "                    options=[{'label': i, 'value': i} for i in neighborhood],\n",
    "                    value='Acacias'),\n",
    "        ],\n",
    "        style={'width': '40%', 'display': 'inline-block'}),\n",
    "\n",
    "        html.Div([\n",
    "             html.H2('Select Rooms',style={'fontSize':15,'color':'#7f7f7f'}),\n",
    "                dcc.Dropdown(\n",
    "                    id='rom',\n",
    "                    options=[{'label': i, 'value': i} for i in rooms],\n",
    "                    value=rom),\n",
    "        ], style={'width': '40%', 'float': 'right', 'display': 'inline-block'}),\n",
    "    ]),\n",
    "    html.Div([\n",
    "         html.H3(style={'margin-bottom': 10}),\n",
    "        dcc.Graph(id='barras'),\n",
    "    ],style={'width': '40%', 'display': 'inline-block'}),\n",
    "    html.Div([\n",
    "         html.H4(style={'margin-bottom': 10}),\n",
    "        dcc.Graph(\n",
    "            id='ava'),\n",
    "            ], style={'width': '40%', 'display': 'inline-block','float':'right'}),\n",
    "    html.Div([\n",
    "        html.H4(style={'margin-bottom': 10}),\n",
    "        dcc.Graph(id='Premium',\n",
    "                  figure={\"data\":[go.Bar(y=prem['Holyday_rental_premium_pct'],x=prem['neighborhood'],width=0.3,                                      \n",
    "                                         name='Percentage',\n",
    "                                         marker=dict(color= '#ff8080', line = dict(\n",
    "                                         color = '#f9ccac',\n",
    "                                         width = 0.8)),\n",
    "                                         opacity=0.6)],\n",
    "                         \"layout\":go.Layout(title='AIRBNB RENT PREMIUM',\n",
    "                                            xaxis=dict(dtick=1, title='Neighbourhood',tickangle=45),\n",
    "                                            yaxis=dict(title='% Gain over Idealista rents'))},\n",
    "                                             style={\"width\":\"94vw\",\n",
    "                                                    \"height\":\"90vh\",\n",
    "                                                   'margin-bottom':30,\n",
    "                                                   'margin-left':5,\n",
    "                                                   'margin-right':5}),\n",
    "    ]),\n",
    "    html.Div([\n",
    "        dcc.Graph(id='offer',\n",
    "                 figure={'data':[go.Bar(y=offer['Number_flats_AIRBNB'],x=offer['neighborhood'],width=0.3,                                      \n",
    "                                         name='Listings in Airbnb',\n",
    "                                         marker=dict(color= '#ff8080', line = dict(\n",
    "                                         color = '#f9ccac',\n",
    "                                         width = 0.8))),\n",
    "                                go.Bar(y=offer['Number_flats_IDEALISTA'],x=offer['neighborhood'],width=0.3,                                      \n",
    "                                         name='Listings in Idealista',\n",
    "                                         marker=dict(color= '#b3ff66', line = dict(\n",
    "                                         color = '#b3ff66',\n",
    "                                         width = 0.8)))],\n",
    "                         \"layout\":go.Layout(title='RENTAL MARKET OFFER',\n",
    "                                            xaxis=dict(dtick=1, title='Neighbourhood',tickangle=45),\n",
    "                                            yaxis=dict(title='Number of listings'))},\n",
    "                                             style={\"width\":\"94vw\",\n",
    "                                                     \"height\":\"90vh\",\n",
    "                                                   'margin-bottom':15,\n",
    "                                                   'margin-left':5,\n",
    "                                                   'margin-right':5}),\n",
    "    ]),\n",
    "      ], style={\n",
    "        'borderBottom': 'thin lightgrey solid',\n",
    "        'backgroundColor': 'rgb(250, 250, 250)',\n",
    "         'margin-left': 'auto',\n",
    "        'margin-right': 'auto'})\n",
    "    \n",
    "])\n",
    "\n",
    "@app.callback(dash.dependencies.Output('barras','figure'),\n",
    "              [dash.dependencies.Input('zonas','value'),\n",
    "               dash.dependencies.Input('rom','value')])\n",
    "\n",
    "def upgrade_chart(zonas,rom):\n",
    "    dff=center[center.rooms==rom]\n",
    "    dff_filt=dff[dff.neighborhood==zonas]\n",
    "    return {'data':[go.Bar(x=dff.Estimated_income_Airbnb_EUR, y=dff_filt['neighborhood'], width=0.20,\n",
    "                name='Airbnb',\n",
    "                orientation='h',\n",
    "                marker=dict(color= '#ff8080', line = dict(\n",
    "                color = '#ff8080',\n",
    "                width = 0.2))),\n",
    "                   go.Bar(x=dff.Monthly_rent_Idealista_EUR, y=dff_filt['neighborhood'], width=0.20,\n",
    "                name='Idealista',\n",
    "                orientation='h',\n",
    "                marker=dict(color= '#b3ff66', line = dict(\n",
    "                color = '#b3ff66',\n",
    "                width = 0.2)))],\n",
    "           'layout':go.Layout(title='Estimated Gross Monthly Income',\n",
    "                              xaxis={'title': 'Rent EUR'},\n",
    "                              yaxis={'title': 'Neighbourhood'},\n",
    "                              width=500, \n",
    "                              height=300)}\n",
    "    \n",
    "\n",
    "@app.callback(dash.dependencies.Output('ava','figure'),\n",
    "              [dash.dependencies.Input('zonas','value')])\n",
    "\n",
    "def new_chart(zonas):\n",
    "    dava=center[center.neighborhood==zonas]\n",
    "    return {'data':[go.Bar(y=dava['availability_30'],x=dava['rooms'],width=0.25,\n",
    "                name='Airbnb', \n",
    "                marker=dict(color= '#ff8080',line = dict(\n",
    "                color = '#ff8080',\n",
    "                width = 0.2)))],\n",
    "           'layout':go.Layout(title='Airbnb Average availability in a Month',\n",
    "                              xaxis={'title': 'Rooms'},\n",
    "                              yaxis={'title': 'Days'},\n",
    "                              width=500, \n",
    "                              height=300)}   \n",
    "\n",
    "\n",
    "\n",
    "app.run_server()"
   ]
  },
  {
   "cell_type": "code",
   "execution_count": null,
   "metadata": {
    "collapsed": true,
    "deletable": true,
    "editable": true
   },
   "outputs": [],
   "source": []
  }
 ],
 "metadata": {
  "kernelspec": {
   "display_name": "Python 2",
   "language": "python",
   "name": "python2"
  },
  "language_info": {
   "codemirror_mode": {
    "name": "ipython",
    "version": 2
   },
   "file_extension": ".py",
   "mimetype": "text/x-python",
   "name": "python",
   "nbconvert_exporter": "python",
   "pygments_lexer": "ipython2",
   "version": "2.7.13"
  }
 },
 "nbformat": 4,
 "nbformat_minor": 2
}
