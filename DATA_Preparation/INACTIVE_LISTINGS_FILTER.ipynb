{
 "cells": [
  {
   "cell_type": "code",
   "execution_count": 5,
   "metadata": {
    "collapsed": true,
    "deletable": true,
    "editable": true
   },
   "outputs": [],
   "source": [
    "import pandas as pd"
   ]
  },
  {
   "cell_type": "code",
   "execution_count": 7,
   "metadata": {
    "collapsed": false,
    "deletable": true,
    "editable": true
   },
   "outputs": [
    {
     "name": "stdout",
     "output_type": "stream",
     "text": [
      "/home/dsc/Master-IV/TFM/PROYECTO_FM\n"
     ]
    }
   ],
   "source": [
    "%cd ~/Master-IV/TFM/PROYECTO_FM/"
   ]
  },
  {
   "cell_type": "code",
   "execution_count": 8,
   "metadata": {
    "collapsed": false,
    "deletable": true,
    "editable": true
   },
   "outputs": [],
   "source": [
    "# File downloaded from http://insideairbnb.com/get-the-data.html\n",
    "aib = pd.read_csv('listings.csv')"
   ]
  },
  {
   "cell_type": "code",
   "execution_count": 9,
   "metadata": {
    "collapsed": false,
    "deletable": true,
    "editable": true
   },
   "outputs": [
    {
     "data": {
      "text/plain": [
       "(13335, 95)"
      ]
     },
     "execution_count": 9,
     "metadata": {},
     "output_type": "execute_result"
    }
   ],
   "source": [
    "aib.shape"
   ]
  },
  {
   "cell_type": "code",
   "execution_count": 10,
   "metadata": {
    "collapsed": true,
    "deletable": true,
    "editable": true
   },
   "outputs": [],
   "source": [
    "# Find and remove inactive listings. \n",
    "# There are four types of inactive properties: \n",
    "#  a) those who have never been available (although they turn up in the website)\n",
    "#  b) those that were active in the past but for some reason they are not available any more.\n",
    "#  c) Semi active: sporadic offerings only available a few days a month(ie, only weekends) or canceled by the host\n",
    "#  that removes on purpose all availability during the month.\n",
    "\n",
    "# Filters (columns names): \n",
    "# 1) Number of reviews\n",
    "# 2) Reviews per month\n",
    "# 3) Calendar last updated\n",
    "# 4) Availability_30/60/60  \n",
    "# 5) Last_review // First_review"
   ]
  },
  {
   "cell_type": "code",
   "execution_count": 11,
   "metadata": {
    "collapsed": false,
    "deletable": true,
    "editable": true
   },
   "outputs": [
    {
     "data": {
      "text/plain": [
       "(12662, 95)"
      ]
     },
     "execution_count": 11,
     "metadata": {},
     "output_type": "execute_result"
    }
   ],
   "source": [
    "# Group a\n",
    "\n",
    "#  Inactive listings definition: those rooms/apartments that appear sold out in the next 3 months \n",
    "# (availability_30/60 columns=0) and  have no reviews at all (thus reviews per month null and 'number of reviews' \n",
    "# columns equal to 0 or NaN).\n",
    "\n",
    "aib = aib.drop(aib[(aib.number_of_reviews==0) & (aib['reviews_per_month'].isnull()) & (aib.availability_30==0) & \n",
    "      (aib.availability_60==0)  & (aib.availability_90==0)].index)\n",
    "aib.shape"
   ]
  },
  {
   "cell_type": "code",
   "execution_count": 12,
   "metadata": {
    "collapsed": false,
    "deletable": true,
    "editable": true
   },
   "outputs": [
    {
     "data": {
      "text/plain": [
       "(12293, 95)"
      ]
     },
     "execution_count": 12,
     "metadata": {},
     "output_type": "execute_result"
    }
   ],
   "source": [
    "# Group b\n",
    "\n",
    "# Properties no longer active \n",
    "# Filter: properties listed for more than a year,having less than 11 reviews with extreme low availability.\n",
    "aib['last_review'] = pd.to_datetime(aib.last_review,format='%Y-%m-%d')\n",
    "aib['first_review'] = pd.to_datetime(aib.first_review,format='%Y-%m-%d')\n",
    "\n",
    "aib =aib.drop(aib[(aib.number_of_reviews<11) & (aib.first_review<'2016-03-01') & (aib.availability_60<3) \n",
    "    & (aib.availability_90<5)].index)\n",
    "aib.shape"
   ]
  },
  {
   "cell_type": "code",
   "execution_count": 13,
   "metadata": {
    "collapsed": false,
    "deletable": true,
    "editable": true
   },
   "outputs": [
    {
     "data": {
      "text/plain": [
       "1.98623316622432"
      ]
     },
     "execution_count": 13,
     "metadata": {},
     "output_type": "execute_result"
    }
   ],
   "source": [
    "\n",
    "aib.reviews_per_month.mean()\n"
   ]
  },
  {
   "cell_type": "code",
   "execution_count": 14,
   "metadata": {
    "collapsed": false,
    "deletable": true,
    "editable": true
   },
   "outputs": [
    {
     "data": {
      "text/plain": [
       "(11557, 95)"
      ]
     },
     "execution_count": 14,
     "metadata": {},
     "output_type": "execute_result"
    }
   ],
   "source": [
    "# Group c\n",
    "# Filters combination:\n",
    "aib = aib.drop(aib[(aib.availability_30<2) & (aib.availability_60<5) & (aib.reviews_per_month<1.5) \n",
    "    & (aib.last_review<'2017-01-01')].index)\n",
    "aib.shape"
   ]
  },
  {
   "cell_type": "code",
   "execution_count": 15,
   "metadata": {
    "collapsed": false,
    "deletable": true,
    "editable": true
   },
   "outputs": [
    {
     "data": {
      "text/plain": [
       "(11112, 95)"
      ]
     },
     "execution_count": 15,
     "metadata": {},
     "output_type": "execute_result"
    }
   ],
   "source": [
    "# Final filter based on number of reviews along with 'reviews per month'\n",
    "aib =  aib.drop(aib[(aib.availability_30==0) & (aib.number_of_reviews<=7) \n",
    "    & (aib.reviews_per_month<1.5)].index)\n",
    "aib.shape"
   ]
  },
  {
   "cell_type": "code",
   "execution_count": 16,
   "metadata": {
    "collapsed": false,
    "deletable": true,
    "editable": true
   },
   "outputs": [
    {
     "data": {
      "text/plain": [
       "(10687, 95)"
      ]
     },
     "execution_count": 16,
     "metadata": {},
     "output_type": "execute_result"
    }
   ],
   "source": [
    "aib =  aib.drop(aib[(aib.availability_30==0)  & (aib.number_of_reviews<=7) \n",
    "    & (aib.reviews_per_month.isnull())].index)\n",
    "aib.shape"
   ]
  },
  {
   "cell_type": "code",
   "execution_count": null,
   "metadata": {
    "collapsed": true,
    "deletable": true,
    "editable": true
   },
   "outputs": [],
   "source": [
    "# Finally, we must get rid of the misleading listings showing 0 availability.\n",
    "# These properties turn up with average number of reviews and reviews per month, but they are not booked, \n",
    "# they have been just canceled by the host so that no one can book them in the current month. \n",
    "\n",
    "# These kind of offerings are the hardest to spot, so to reduce the error margin we establish a more accurate and \n",
    "# customized filter. Each listing with no availability_30 must show a number of reviews greater than\n",
    "# the neighbourhood average.\n",
    "# We assume that if a property is fully booked it is very popular and demanded and therefore it must show more\n",
    "# reviews than regular properties. \n"
   ]
  },
  {
   "cell_type": "code",
   "execution_count": 17,
   "metadata": {
    "collapsed": false,
    "deletable": true,
    "editable": true
   },
   "outputs": [
    {
     "data": {
      "text/plain": [
       "neighbourhood_group_cleansed\n",
       "Arganzuela               24.296596\n",
       "Barajas                  38.196970\n",
       "Carabanchel              12.534483\n",
       "Centro                   37.414127\n",
       "Chamartín                15.654275\n",
       "Chamberí                 18.672154\n",
       "Ciudad Lineal            14.903226\n",
       "Fuencarral - El Pardo     7.570423\n",
       "Hortaleza                13.748428\n",
       "Latina                   17.061433\n",
       "Moncloa - Aravaca        13.313783\n",
       "Moratalaz                15.176471\n",
       "Puente de Vallecas       16.708333\n",
       "Retiro                   22.683908\n",
       "Salamanca                15.916306\n",
       "San Blas - Canillejas    22.623762\n",
       "Tetuán                   15.387931\n",
       "Usera                    13.794872\n",
       "Vicálvaro                 3.210526\n",
       "Villa de Vallecas         7.857143\n",
       "Villaverde               15.514706\n",
       "Name: number_of_reviews, dtype: float64"
      ]
     },
     "execution_count": 17,
     "metadata": {},
     "output_type": "execute_result"
    }
   ],
   "source": [
    "aib.groupby('neighbourhood_group_cleansed').number_of_reviews.mean()"
   ]
  },
  {
   "cell_type": "code",
   "execution_count": 18,
   "metadata": {
    "collapsed": false,
    "deletable": true,
    "editable": true
   },
   "outputs": [
    {
     "data": {
      "text/plain": [
       "(10315, 95)"
      ]
     },
     "execution_count": 18,
     "metadata": {},
     "output_type": "execute_result"
    }
   ],
   "source": [
    "aib = aib.drop(aib[(aib.neighbourhood_group_cleansed=='Arganzuela') & (aib.number_of_reviews<=24)\n",
    "    & (aib.availability_30==0)].index)\n",
    "aib = aib.drop(aib[(aib.neighbourhood_group_cleansed=='Barajas') & (aib.number_of_reviews<=38)\n",
    "    & (aib.availability_30==0)].index)\n",
    "aib = aib.drop(aib[(aib.neighbourhood_group_cleansed=='Carabanchel') & (aib.number_of_reviews<=12)\n",
    "    & (aib.availability_30==0)].index)\n",
    "aib = aib.drop(aib[(aib.neighbourhood_group_cleansed=='Centro') & (aib.number_of_reviews<=37)\n",
    "    & (aib.availability_30==0)].index)\n",
    "aib = aib.drop(aib[(aib.neighbourhood_group_cleansed=='Chamartín') & (aib.number_of_reviews<=15)\n",
    "    & (aib.availability_30==0)].index)\n",
    "aib = aib.drop(aib[(aib.neighbourhood_group_cleansed=='Chamberí') & (aib.number_of_reviews<=18)\n",
    "    & (aib.availability_30==0)].index)\n",
    "aib = aib.drop(aib[(aib.neighbourhood_group_cleansed=='Ciudad Lineal') & (aib.number_of_reviews<=14)\n",
    "    & (aib.availability_30==0)].index)\n",
    "aib = aib.drop(aib[(aib.neighbourhood_group_cleansed=='Fuencarral - El Pardo') & (aib.number_of_reviews<=7)\n",
    "    & (aib.availability_30==0)].index)\n",
    "aib.shape"
   ]
  },
  {
   "cell_type": "code",
   "execution_count": 19,
   "metadata": {
    "collapsed": false,
    "deletable": true,
    "editable": true
   },
   "outputs": [
    {
     "data": {
      "text/plain": [
       "(10236, 95)"
      ]
     },
     "execution_count": 19,
     "metadata": {},
     "output_type": "execute_result"
    }
   ],
   "source": [
    "aib = aib.drop(aib[(aib.neighbourhood_group_cleansed=='Hortaleza') & (aib.number_of_reviews<=13)\n",
    "    & (aib.availability_30==0)].index)\n",
    "aib = aib.drop(aib[(aib.neighbourhood_group_cleansed=='Latina') & (aib.number_of_reviews<=17)\n",
    "    & (aib.availability_30==0)].index)\n",
    "aib = aib.drop(aib[(aib.neighbourhood_group_cleansed=='Moratalaz') & (aib.number_of_reviews<=15)\n",
    "    & (aib.availability_30==0)].index)\n",
    "aib = aib.drop(aib[(aib.neighbourhood_group_cleansed=='Moncloa - Aravaca') & (aib.number_of_reviews<=13)\n",
    "    & (aib.availability_30==0)].index)\n",
    "aib = aib.drop(aib[(aib.neighbourhood_group_cleansed=='Puente de Vallecas') & (aib.number_of_reviews<=16)\n",
    "    & (aib.availability_30==0)].index)\n",
    "aib = aib.drop(aib[(aib.neighbourhood_group_cleansed=='Retiro') & (aib.number_of_reviews<=22)\n",
    "    & (aib.availability_30==0)].index)\n",
    "aib = aib.drop(aib[(aib.neighbourhood_group_cleansed=='Salamanca') & (aib.number_of_reviews<=15)\n",
    "    & (aib.availability_30==0)].index)\n",
    "aib = aib.drop(aib[(aib.neighbourhood_group_cleansed=='San Blas - Canillejas') & (aib.number_of_reviews<=22)\n",
    "    & (aib.availability_30==0)].index)\n",
    "aib.shape"
   ]
  },
  {
   "cell_type": "code",
   "execution_count": 20,
   "metadata": {
    "collapsed": false,
    "deletable": true,
    "editable": true
   },
   "outputs": [
    {
     "data": {
      "text/plain": [
       "(10231, 95)"
      ]
     },
     "execution_count": 20,
     "metadata": {},
     "output_type": "execute_result"
    }
   ],
   "source": [
    "aib = aib.drop(aib[(aib.neighbourhood_group_cleansed=='Tetuan') & (aib.number_of_reviews<=15)\n",
    "    & (aib.availability_30==0)].index)\n",
    "aib = aib.drop(aib[(aib.neighbourhood_group_cleansed=='Usera') & (aib.number_of_reviews<=13)\n",
    "    & (aib.availability_30==0)].index)\n",
    "aib = aib.drop(aib[(aib.neighbourhood_group_cleansed=='Vicálvaro') & (aib.number_of_reviews<=3)\n",
    "    & (aib.availability_30==0)].index)\n",
    "aib = aib.drop(aib[(aib.neighbourhood_group_cleansed=='Villa de Vallecas') & (aib.number_of_reviews<=7)\n",
    "    & (aib.availability_30==0)].index)\n",
    "aib = aib.drop(aib[(aib.neighbourhood_group_cleansed=='Villaverde') & (aib.number_of_reviews<=15)\n",
    "    & (aib.availability_30==0)].index)\n",
    "aib.shape\n"
   ]
  },
  {
   "cell_type": "code",
   "execution_count": 21,
   "metadata": {
    "collapsed": false,
    "deletable": true,
    "editable": true
   },
   "outputs": [],
   "source": [
    "# Save df as csv.\n",
    "aib.to_csv('aib.csv',sep='\\t')"
   ]
  },
  {
   "cell_type": "code",
   "execution_count": null,
   "metadata": {
    "collapsed": true
   },
   "outputs": [],
   "source": []
  }
 ],
 "metadata": {
  "kernelspec": {
   "display_name": "Python 2",
   "language": "python",
   "name": "python2"
  },
  "language_info": {
   "codemirror_mode": {
    "name": "ipython",
    "version": 2
   },
   "file_extension": ".py",
   "mimetype": "text/x-python",
   "name": "python",
   "nbconvert_exporter": "python",
   "pygments_lexer": "ipython2",
   "version": "2.7.13"
  }
 },
 "nbformat": 4,
 "nbformat_minor": 2
}
