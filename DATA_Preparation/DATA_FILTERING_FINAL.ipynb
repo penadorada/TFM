{
 "cells": [
  {
   "cell_type": "markdown",
   "metadata": {
    "deletable": true,
    "editable": true
   },
   "source": [
    "![](https://s14-eu5.ixquick.com/cgi-bin/serveimage?url=https%3A%2F%2Fwww.alojandoturistas.com%2Fwp-content%2Fuploads%2F2016%2F03%2Finsideairbnb01.jpg&sp=98223f3b39fbea79a7ea767e03a1cf15)\n",
    "\n",
    "## INTRODUCTION\n",
    "\n",
    "This Master project is done based on a dataset found in http://insideairbnb.com/, an independent service not\n",
    "related to Airbnb that offers for free Airbnb listings data for major cities in the world.\n",
    "\n",
    "Our dataset is a picture of the airbnb website, but is not Airbnb private data. It has been collected through webscrapping.\n",
    "\n",
    "Airbnb website is free to list any property, this involves that not all listings are real. After thorough exploration of \n",
    "the data, we realised that many listings were just fake, other were not online anymore, and sometimes not even homes. Many appear in Airbnb website  but they not available for rent. \n",
    "\n",
    "Consequently, the first stage of this project consists of finding all those fake listings and delete them in order to \n",
    "have an accurate sample of the holiday rental occupancy rate in Madrid\n",
    "\n",
    "\n",
    "\n",
    "## Find and remove inactive listings. \n",
    "- There are three types of inactive properties: \n",
    "\n",
    "    a) Listings that have never been available (although they turn up in website).\n",
    "    \n",
    "    b) Listings that were active in the past but for some reason they are not available any more.\n",
    "    \n",
    "    c) Semi active: properties only available a few days a month(ie, only weekends) or canceled by the host\n",
    "    that removes on purpose all availability during the month.\n"
   ]
  },
  {
   "cell_type": "code",
   "execution_count": 2,
   "metadata": {
    "collapsed": true,
    "deletable": true,
    "editable": true
   },
   "outputs": [],
   "source": [
    "import pandas as pd"
   ]
  },
  {
   "cell_type": "code",
   "execution_count": 4,
   "metadata": {
    "collapsed": false,
    "deletable": true,
    "editable": true
   },
   "outputs": [
    {
     "name": "stdout",
     "output_type": "stream",
     "text": [
      "/home/dsc/Master-IV/PROYECTO_FM\n"
     ]
    }
   ],
   "source": [
    "%cd ~/Master-IV/PROYECTO_FM/"
   ]
  },
  {
   "cell_type": "code",
   "execution_count": 5,
   "metadata": {
    "collapsed": false,
    "deletable": true,
    "editable": true
   },
   "outputs": [],
   "source": [
    "# File available in dataset folder\n",
    "aib = pd.read_csv('listings.csv')\n",
    "aib.shape"
   ]
  },
  {
   "cell_type": "markdown",
   "metadata": {
    "collapsed": true,
    "deletable": true,
    "editable": true
   },
   "source": [
    "\n",
    "## Filters  \n",
    "The most important elements to measure if a property is available for rent full time and the listing is real are the following variables(columns):\n",
    "\n",
    " 1) Number of reviews.\n",
    " \n",
    " 2) Reviews per month.\n",
    " \n",
    " 3) Calendar last updated.\n",
    " \n",
    " 4) Availability_30/60/90.\n",
    " \n",
    " 5) Last_review // First_review\n",
    " \n",
    "\n"
   ]
  },
  {
   "cell_type": "markdown",
   "metadata": {
    "deletable": true,
    "editable": true
   },
   "source": [
    "## Filter 1. \n",
    "Rooms/apartments that appear sold out in the next 3 months (availability_30=0 & availability_60=0 & availability_90=0)\n",
    "and  have no reviews at all, thus \"reviews per month\" and \"number of reviews\" columns equal to 0 or NaN.\n"
   ]
  },
  {
   "cell_type": "code",
   "execution_count": 7,
   "metadata": {
    "collapsed": false,
    "deletable": true,
    "editable": true
   },
   "outputs": [
    {
     "data": {
      "text/plain": [
       "(12662, 95)"
      ]
     },
     "execution_count": 7,
     "metadata": {},
     "output_type": "execute_result"
    }
   ],
   "source": [
    "# Find and delete\n",
    "aib = aib.drop(aib[(aib.number_of_reviews==0) & (aib['reviews_per_month'].isnull()) & (aib.availability_30==0) & \n",
    "      (aib.availability_60==0)  & (aib.availability_90==0)].index)\n",
    "aib.shape"
   ]
  },
  {
   "cell_type": "markdown",
   "metadata": {
    "deletable": true,
    "editable": true
   },
   "source": [
    "## Filter 2\n",
    "Properties not updated. Properties listed for more than a year,having less than 11 reviews with extreme low availability."
   ]
  },
  {
   "cell_type": "code",
   "execution_count": 8,
   "metadata": {
    "collapsed": false,
    "deletable": true,
    "editable": true
   },
   "outputs": [
    {
     "data": {
      "text/plain": [
       "(12293, 95)"
      ]
     },
     "execution_count": 8,
     "metadata": {},
     "output_type": "execute_result"
    }
   ],
   "source": [
    "\n",
    "aib['last_review'] = pd.to_datetime(aib.last_review,format='%Y-%m-%d')\n",
    "aib['first_review'] = pd.to_datetime(aib.first_review,format='%Y-%m-%d')\n",
    "\n",
    "# Dataset as of April 2017.\n",
    "aib =aib.drop(aib[(aib.number_of_reviews<11) & (aib.first_review<'2016-03-01') & (aib.availability_60<3) \n",
    "    & (aib.availability_90<5)].index)\n",
    "aib.shape"
   ]
  },
  {
   "cell_type": "code",
   "execution_count": 13,
   "metadata": {
    "collapsed": false,
    "deletable": true,
    "editable": true
   },
   "outputs": [
    {
     "data": {
      "text/plain": [
       "1.98623316622432"
      ]
     },
     "execution_count": 13,
     "metadata": {},
     "output_type": "execute_result"
    }
   ],
   "source": [
    "\n",
    "aib.reviews_per_month.mean()\n"
   ]
  },
  {
   "cell_type": "markdown",
   "metadata": {
    "deletable": true,
    "editable": true
   },
   "source": [
    "## Filter 3\n",
    "Properties with very low availability, reviews per month well below the average (1.98) and last review in 2016."
   ]
  },
  {
   "cell_type": "code",
   "execution_count": 9,
   "metadata": {
    "collapsed": false,
    "deletable": true,
    "editable": true
   },
   "outputs": [
    {
     "data": {
      "text/plain": [
       "(11557, 95)"
      ]
     },
     "execution_count": 9,
     "metadata": {},
     "output_type": "execute_result"
    }
   ],
   "source": [
    "aib = aib.drop(aib[(aib.availability_30<2) & (aib.availability_60<5) & (aib.reviews_per_month<1.5) \n",
    "    & (aib.last_review<'2017-01-01')].index)\n",
    "aib.shape"
   ]
  },
  {
   "cell_type": "code",
   "execution_count": 10,
   "metadata": {
    "collapsed": false,
    "deletable": true,
    "editable": true
   },
   "outputs": [
    {
     "data": {
      "text/plain": [
       "(11112, 95)"
      ]
     },
     "execution_count": 10,
     "metadata": {},
     "output_type": "execute_result"
    }
   ],
   "source": [
    "# Final filter based on number of reviews along with 'reviews per month'\n",
    "aib =  aib.drop(aib[(aib.availability_30==0) & (aib.number_of_reviews<=7) \n",
    "    & (aib.reviews_per_month<1.5)].index)\n",
    "aib.shape"
   ]
  },
  {
   "cell_type": "code",
   "execution_count": 11,
   "metadata": {
    "collapsed": false,
    "deletable": true,
    "editable": true
   },
   "outputs": [
    {
     "data": {
      "text/plain": [
       "(10687, 95)"
      ]
     },
     "execution_count": 11,
     "metadata": {},
     "output_type": "execute_result"
    }
   ],
   "source": [
    "aib =  aib.drop(aib[(aib.availability_30==0)  & (aib.number_of_reviews<=7) \n",
    "    & (aib.reviews_per_month.isnull())].index)\n",
    "aib.shape"
   ]
  },
  {
   "cell_type": "markdown",
   "metadata": {
    "deletable": true,
    "editable": true
   },
   "source": [
    "## Filter 4.\n",
    "Misleading listings showing 0 availability.\n",
    "\n",
    "Properties that  turn up with average \"number of reviews\" and \"reviews per month\", but they are not booked, \n",
    "they have been just canceled by the host so that no one can book them in the current month. \n",
    "\n",
    "These kind of offerings are the hardest to spot, so to reduce the error margin we establish a more accurate and \n",
    "customized filter. Each listing with no availability_30 must show a number of reviews greater than\n",
    "the neighbourhood average.\n",
    "We assume that if a property is fully booked, it is very popular and therefore, it must show more\n",
    "reviews than regular properties. "
   ]
  },
  {
   "cell_type": "code",
   "execution_count": 13,
   "metadata": {
    "collapsed": false,
    "deletable": true,
    "editable": true
   },
   "outputs": [
    {
     "data": {
      "text/plain": [
       "neighbourhood_group_cleansed\n",
       "Arganzuela               24.296596\n",
       "Barajas                  38.196970\n",
       "Carabanchel              12.534483\n",
       "Centro                   37.414127\n",
       "Chamartín                15.654275\n",
       "Chamberí                 18.672154\n",
       "Ciudad Lineal            14.903226\n",
       "Fuencarral - El Pardo     7.570423\n",
       "Hortaleza                13.748428\n",
       "Latina                   17.061433\n",
       "Moncloa - Aravaca        13.313783\n",
       "Moratalaz                15.176471\n",
       "Puente de Vallecas       16.708333\n",
       "Retiro                   22.683908\n",
       "Salamanca                15.916306\n",
       "San Blas - Canillejas    22.623762\n",
       "Tetuán                   15.387931\n",
       "Usera                    13.794872\n",
       "Vicálvaro                 3.210526\n",
       "Villa de Vallecas         7.857143\n",
       "Villaverde               15.514706\n",
       "Name: number_of_reviews, dtype: float64"
      ]
     },
     "execution_count": 13,
     "metadata": {},
     "output_type": "execute_result"
    }
   ],
   "source": [
    "# Find out average number of reviews of every district\n",
    "aib.groupby('neighbourhood_group_cleansed').number_of_reviews.mean()"
   ]
  },
  {
   "cell_type": "code",
   "execution_count": 14,
   "metadata": {
    "collapsed": false,
    "deletable": true,
    "editable": true
   },
   "outputs": [
    {
     "data": {
      "text/plain": [
       "(10315, 95)"
      ]
     },
     "execution_count": 14,
     "metadata": {},
     "output_type": "execute_result"
    }
   ],
   "source": [
    "# Filter applied\n",
    "aib = aib.drop(aib[(aib.neighbourhood_group_cleansed=='Arganzuela') & (aib.number_of_reviews<=24)\n",
    "    & (aib.availability_30==0)].index)\n",
    "aib = aib.drop(aib[(aib.neighbourhood_group_cleansed=='Barajas') & (aib.number_of_reviews<=38)\n",
    "    & (aib.availability_30==0)].index)\n",
    "aib = aib.drop(aib[(aib.neighbourhood_group_cleansed=='Carabanchel') & (aib.number_of_reviews<=12)\n",
    "    & (aib.availability_30==0)].index)\n",
    "aib = aib.drop(aib[(aib.neighbourhood_group_cleansed=='Centro') & (aib.number_of_reviews<=37)\n",
    "    & (aib.availability_30==0)].index)\n",
    "aib = aib.drop(aib[(aib.neighbourhood_group_cleansed=='Chamartín') & (aib.number_of_reviews<=15)\n",
    "    & (aib.availability_30==0)].index)\n",
    "aib = aib.drop(aib[(aib.neighbourhood_group_cleansed=='Chamberí') & (aib.number_of_reviews<=18)\n",
    "    & (aib.availability_30==0)].index)\n",
    "aib = aib.drop(aib[(aib.neighbourhood_group_cleansed=='Ciudad Lineal') & (aib.number_of_reviews<=14)\n",
    "    & (aib.availability_30==0)].index)\n",
    "aib = aib.drop(aib[(aib.neighbourhood_group_cleansed=='Fuencarral - El Pardo') & (aib.number_of_reviews<=7)\n",
    "    & (aib.availability_30==0)].index)\n",
    "aib.shape"
   ]
  },
  {
   "cell_type": "code",
   "execution_count": 15,
   "metadata": {
    "collapsed": false,
    "deletable": true,
    "editable": true
   },
   "outputs": [
    {
     "data": {
      "text/plain": [
       "(10236, 95)"
      ]
     },
     "execution_count": 15,
     "metadata": {},
     "output_type": "execute_result"
    }
   ],
   "source": [
    "aib = aib.drop(aib[(aib.neighbourhood_group_cleansed=='Hortaleza') & (aib.number_of_reviews<=13)\n",
    "    & (aib.availability_30==0)].index)\n",
    "aib = aib.drop(aib[(aib.neighbourhood_group_cleansed=='Latina') & (aib.number_of_reviews<=17)\n",
    "    & (aib.availability_30==0)].index)\n",
    "aib = aib.drop(aib[(aib.neighbourhood_group_cleansed=='Moratalaz') & (aib.number_of_reviews<=15)\n",
    "    & (aib.availability_30==0)].index)\n",
    "aib = aib.drop(aib[(aib.neighbourhood_group_cleansed=='Moncloa - Aravaca') & (aib.number_of_reviews<=13)\n",
    "    & (aib.availability_30==0)].index)\n",
    "aib = aib.drop(aib[(aib.neighbourhood_group_cleansed=='Puente de Vallecas') & (aib.number_of_reviews<=16)\n",
    "    & (aib.availability_30==0)].index)\n",
    "aib = aib.drop(aib[(aib.neighbourhood_group_cleansed=='Retiro') & (aib.number_of_reviews<=22)\n",
    "    & (aib.availability_30==0)].index)\n",
    "aib = aib.drop(aib[(aib.neighbourhood_group_cleansed=='Salamanca') & (aib.number_of_reviews<=15)\n",
    "    & (aib.availability_30==0)].index)\n",
    "aib = aib.drop(aib[(aib.neighbourhood_group_cleansed=='San Blas - Canillejas') & (aib.number_of_reviews<=22)\n",
    "    & (aib.availability_30==0)].index)\n",
    "aib.shape"
   ]
  },
  {
   "cell_type": "code",
   "execution_count": 16,
   "metadata": {
    "collapsed": false,
    "deletable": true,
    "editable": true
   },
   "outputs": [
    {
     "data": {
      "text/plain": [
       "(10231, 95)"
      ]
     },
     "execution_count": 16,
     "metadata": {},
     "output_type": "execute_result"
    }
   ],
   "source": [
    "aib = aib.drop(aib[(aib.neighbourhood_group_cleansed=='Tetuan') & (aib.number_of_reviews<=15)\n",
    "    & (aib.availability_30==0)].index)\n",
    "aib = aib.drop(aib[(aib.neighbourhood_group_cleansed=='Usera') & (aib.number_of_reviews<=13)\n",
    "    & (aib.availability_30==0)].index)\n",
    "aib = aib.drop(aib[(aib.neighbourhood_group_cleansed=='Vicálvaro') & (aib.number_of_reviews<=3)\n",
    "    & (aib.availability_30==0)].index)\n",
    "aib = aib.drop(aib[(aib.neighbourhood_group_cleansed=='Villa de Vallecas') & (aib.number_of_reviews<=7)\n",
    "    & (aib.availability_30==0)].index)\n",
    "aib = aib.drop(aib[(aib.neighbourhood_group_cleansed=='Villaverde') & (aib.number_of_reviews<=15)\n",
    "    & (aib.availability_30==0)].index)\n",
    "aib.shape\n"
   ]
  },
  {
   "cell_type": "code",
   "execution_count": 17,
   "metadata": {
    "collapsed": false,
    "deletable": true,
    "editable": true
   },
   "outputs": [],
   "source": [
    "# Save df as csv.\n",
    "aib.to_csv('aib.csv',sep='\\t')"
   ]
  },
  {
   "cell_type": "code",
   "execution_count": null,
   "metadata": {
    "collapsed": true,
    "deletable": true,
    "editable": true
   },
   "outputs": [],
   "source": []
  }
 ],
 "metadata": {
  "kernelspec": {
   "display_name": "Python 2",
   "language": "python",
   "name": "python2"
  },
  "language_info": {
   "codemirror_mode": {
    "name": "ipython",
    "version": 2
   },
   "file_extension": ".py",
   "mimetype": "text/x-python",
   "name": "python",
   "nbconvert_exporter": "python",
   "pygments_lexer": "ipython2",
   "version": "2.7.13"
  }
 },
 "nbformat": 4,
 "nbformat_minor": 2
}
